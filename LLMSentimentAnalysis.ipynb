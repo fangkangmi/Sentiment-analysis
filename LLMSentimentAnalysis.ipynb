{
 "cells": [
  {
   "cell_type": "code",
   "execution_count": 1,
   "id": "ac014ff1",
   "metadata": {},
   "outputs": [],
   "source": [
    "import numpy as np\n",
    "import pandas as pd\n",
    "import matplotlib.pyplot as plt\n",
    "import os\n",
    "import torch\n",
    "import wandb\n",
    "import spacy\n",
    "import random\n",
    "import logging\n",
    "import pytextrank\n",
    "from tqdm import tqdm\n",
    "from torch.optim import Adam\n",
    "from torch.nn import DataParallel\n",
    "from torch.utils.data import Dataset, DataLoader\n",
    "from sklearn.metrics import classification_report\n",
    "from transformers import TrainingArguments, Trainer\n",
    "from sklearn.model_selection import train_test_split\n",
    "from datasets import load_dataset,concatenate_datasets\n",
    "from transformers import AutoTokenizer, AutoModelForSeq2SeqLM, AutoModelForSequenceClassification"
   ]
  },
  {
   "cell_type": "code",
   "execution_count": 2,
   "id": "bb154a02",
   "metadata": {},
   "outputs": [],
   "source": [
    "# Summarize the input to how many tokens, default to 512 for BERT use.\n",
    "# Since LongFormer could accept 4096 tokens, we could skip TextRank if LongFormer\n",
    "seed_val = 42\n",
    "ENABLE_TEXT_RANK = False\n",
    "TEXT_RANK_LENGTH = 512\n",
    "LEARNING_RATE = 2e-5\n",
    "NUM_EPOCHS = 4\n",
    "\n",
    "MODEL = [\"T5base\",\"roberta\",\"Distilbert\",\"FlanT5small\"] # Choose from \"T5base\", \"roberta\", \"Distilbert\", \"FlanT5small\"\n",
    "\n",
    "NEW_BATCH_SIZE = 8 if MODEL in [\"roberta\", \"Distilbert\", \"FlanT5small\"] else 4 \n",
    "\n",
    "#wandb.login(key='bf24a38a046a0448057459477a5d48fbc6eb2f6a')\n",
    "#wandb.init()"
   ]
  },
  {
   "cell_type": "code",
   "execution_count": 3,
   "id": "ea032a6c",
   "metadata": {},
   "outputs": [
    {
     "name": "stdout",
     "output_type": "stream",
     "text": [
      "There are 1 GPU(s) available.\n",
      "We will use the GPU: NVIDIA GeForce GTX 1070\n"
     ]
    }
   ],
   "source": [
    "# If there's a GPU available...\n",
    "# If GPU not available, training will cost SEVERAL DAYS, not recommended running on CPU\n",
    "if torch.cuda.is_available():    \n",
    "    # Tell PyTorch to use the GPU.    \n",
    "    device = torch.device(\"cuda\")\n",
    "    print('There are %d GPU(s) available.' % torch.cuda.device_count())\n",
    "    print('We will use the GPU:', torch.cuda.get_device_name(0))\n",
    "# If not...\n",
    "else:\n",
    "    print('No GPU available, using the CPU insteadp(not recommended).')\n",
    "    device = torch.device(\"cpu\")"
   ]
  },
  {
   "cell_type": "code",
   "execution_count": 4,
   "id": "ea6ca01d",
   "metadata": {},
   "outputs": [
    {
     "name": "stderr",
     "output_type": "stream",
     "text": [
      "Found cached dataset parquet (/home/fangkangmi/.cache/huggingface/datasets/argilla___parquet/argilla--banking_sentiment_setfit-4a60f83f113675bf/0.0.0/2a3b91fbd88a2c90d1dbbb32b460cf621d31bd5b05b934492fdef7d8d6f236ec)\n"
     ]
    },
    {
     "data": {
      "application/vnd.jupyter.widget-view+json": {
       "model_id": "475b0aa9612445b18b949d5d018e14dd",
       "version_major": 2,
       "version_minor": 0
      },
      "text/plain": [
       "  0%|          | 0/2 [00:00<?, ?it/s]"
      ]
     },
     "metadata": {},
     "output_type": "display_data"
    },
    {
     "data": {
      "text/plain": [
       "{'text': ['are you sending me my card?',\n",
       "  \"Two days ago I did a transfer to another account within the country.  It doesn't appear the transfer went through.  I have verified the account number several times.  Could you please check on this for me?\",\n",
       "  \"Why didn't I receive the right amount of cash?\",\n",
       "  \"Is there a reason why my virtual card won't work?\",\n",
       "  'Why is my balance the same after a transfer?'],\n",
       " 'label': [1, 1, 0, 0, 1]}"
      ]
     },
     "execution_count": 4,
     "metadata": {},
     "output_type": "execute_result"
    }
   ],
   "source": [
    "dataset = load_dataset(\"argilla/banking_sentiment_setfit\")\n",
    "test = concatenate_datasets([dataset['train'], dataset['test']])\n",
    "\n",
    "test[:5]"
   ]
  },
  {
   "cell_type": "code",
   "execution_count": 5,
   "id": "e202a77c",
   "metadata": {},
   "outputs": [],
   "source": [
    "# Set the seed value all over the place to make this reproducible.\n",
    "random.seed(seed_val)\n",
    "np.random.seed(seed_val)\n",
    "torch.manual_seed(seed_val)\n",
    "torch.cuda.manual_seed_all(seed_val)"
   ]
  },
  {
   "cell_type": "code",
   "execution_count": 6,
   "id": "0ba67bc5",
   "metadata": {},
   "outputs": [],
   "source": [
    "model_options = {\n",
    "    \"T5base\": \"michelecafagna26/t5-base-finetuned-sst2-sentiment\",\n",
    "    \"roberta\":\"cardiffnlp/twitter-roberta-base-sentiment-latest\",\n",
    "    \"Distilbert\": \"distilbert-base-uncased-finetuned-sst-2-english\",\n",
    "    \"FlanT5small\": \"cardiffnlp/flan-t5-small-tweet-sentiment\"\n",
    "}"
   ]
  },
  {
   "cell_type": "code",
   "execution_count": 7,
   "id": "109e4ecc",
   "metadata": {},
   "outputs": [],
   "source": [
    "def set_model_and_tokenizer(model):\n",
    "    return AutoModelForSeq2SeqLM.from_pretrained(model_options.get(model)) if model in [\"T5base\", \"FlanT5small\"] \\\n",
    "           else AutoModelForSequenceClassification.from_pretrained(model_options.get(model))\\\n",
    "           ,AutoTokenizer.from_pretrained(model_options.get(model))"
   ]
  },
  {
   "cell_type": "markdown",
   "id": "a59c0838",
   "metadata": {},
   "source": [
    "# Tokenize\n",
    "\n",
    "By now the test dataset, model and tokenizer has been loaded. The next step is to tokenize the dataset."
   ]
  },
  {
   "cell_type": "code",
   "execution_count": 8,
   "id": "a11ec0f8",
   "metadata": {
    "scrolled": true
   },
   "outputs": [],
   "source": [
    "#T5 tokenization\n",
    "def T5_tokenization(dataset):\n",
    "    dataset['text'] = list(map(lambda s: 'sentiment ' + s, dataset['text']))\n",
    "    return tokenizer(dataset['text'], max_length=128, padding=True, return_tensors=\"pt\")\n",
    "\n",
    "def T5_get_sentiment(tensor):\n",
    "    preds = model.generate(tensor)\n",
    "    decoded_preds = tokenizer.batch_decode(sequences=preds, skip_special_tokens=True)\n",
    "    return decoded_preds\n",
    "\n",
    "#RoBERTa tokenization\n",
    "def RoBERTa_DistilBERT_tokenization(dataset):\n",
    "    return tokenizer(dataset, max_length=128, padding=True, return_tensors=\"pt\")\n",
    "class RoBERTa_DistilBERT_Dataset(Dataset):\n",
    "    def __init__(self, encodings, labels):\n",
    "        self.encodings = encodings\n",
    "        self.labels = labels\n",
    "\n",
    "    def __getitem__(self, idx):\n",
    "        item = {key: torch.tensor(val[idx]) for key, val in self.encodings.items()}\n",
    "        item['labels'] = torch.tensor(self.labels[idx])\n",
    "        return item\n",
    "\n",
    "    def __len__(self):\n",
    "        return len(self.labels)\n"
   ]
  },
  {
   "cell_type": "code",
   "execution_count": 9,
   "id": "21c3d7cc",
   "metadata": {
    "scrolled": true
   },
   "outputs": [
    {
     "name": "stderr",
     "output_type": "stream",
     "text": [
      "Loading cached processed dataset at /home/fangkangmi/.cache/huggingface/datasets/argilla___parquet/argilla--banking_sentiment_setfit-4a60f83f113675bf/0.0.0/2a3b91fbd88a2c90d1dbbb32b460cf621d31bd5b05b934492fdef7d8d6f236ec/cache-5828b1a747a225b2.arrow\n",
      "/home/fangkangmi/miniconda3/envs/textsum/lib/python3.9/site-packages/transformers/generation/utils.py:1346: UserWarning: Using `max_length`'s default (20) to control the generation length. This behaviour is deprecated and will be removed from the config in v5 of Transformers -- we recommend using `max_new_tokens` to control the maximum length of the generation.\n",
      "  warnings.warn(\n"
     ]
    },
    {
     "name": "stdout",
     "output_type": "stream",
     "text": [
      "              precision    recall  f1-score   support\n",
      "\n",
      "           0       0.88      0.36      0.51       124\n",
      "           1       0.15      0.70      0.25        20\n",
      "\n",
      "    accuracy                           0.41       144\n",
      "   macro avg       0.52      0.53      0.38       144\n",
      "weighted avg       0.78      0.41      0.48       144\n",
      "\n"
     ]
    }
   ],
   "source": [
    "if('T5base' in MODEL):\n",
    "    model, tokenizer = set_model_and_tokenizer('T5base')\n",
    "    T5_test = test.map(T5_tokenization, batched = True)['input_ids']\n",
    "    T5_predict = T5_get_sentiment(torch.tensor(T5_test))\n",
    "    T5_predict_digit = [1 if i == 'p' else 0 for i in T5_predict]\n",
    "    # Print the classification report\n",
    "    # 1 means positive 0 means negative\n",
    "    report = classification_report(T5_predict_digit, test['label'])\n",
    "    print(report)\n"
   ]
  },
  {
   "cell_type": "code",
   "execution_count": 10,
   "id": "2a4bcaa0",
   "metadata": {},
   "outputs": [
    {
     "name": "stderr",
     "output_type": "stream",
     "text": [
      "Some weights of the model checkpoint at cardiffnlp/twitter-roberta-base-sentiment-latest were not used when initializing RobertaForSequenceClassification: ['roberta.pooler.dense.weight', 'roberta.pooler.dense.bias']\n",
      "- This IS expected if you are initializing RobertaForSequenceClassification from the checkpoint of a model trained on another task or with another architecture (e.g. initializing a BertForSequenceClassification model from a BertForPreTraining model).\n",
      "- This IS NOT expected if you are initializing RobertaForSequenceClassification from the checkpoint of a model that you expect to be exactly identical (initializing a BertForSequenceClassification model from a BertForSequenceClassification model).\n",
      "/home/fangkangmi/miniconda3/envs/textsum/lib/python3.9/site-packages/transformers/tokenization_utils_base.py:2382: UserWarning: `max_length` is ignored when `padding`=`True` and there is no truncation strategy. To pad to max length, use `padding='max_length'`.\n",
      "  warnings.warn(\n",
      "/tmp/ipykernel_7818/2879178762.py:20: UserWarning: To copy construct from a tensor, it is recommended to use sourceTensor.clone().detach() or sourceTensor.clone().detach().requires_grad_(True), rather than torch.tensor(sourceTensor).\n",
      "  item = {key: torch.tensor(val[idx]) for key, val in self.encodings.items()}\n"
     ]
    },
    {
     "name": "stdout",
     "output_type": "stream",
     "text": [
      "              precision    recall  f1-score   support\n",
      "\n",
      "           0       0.33      0.37      0.35        51\n",
      "           1       0.63      0.59      0.61        93\n",
      "\n",
      "    accuracy                           0.51       144\n",
      "   macro avg       0.48      0.48      0.48       144\n",
      "weighted avg       0.53      0.51      0.52       144\n",
      "\n"
     ]
    }
   ],
   "source": [
    "if('roberta' in MODEL):\n",
    "    model, tokenizer = set_model_and_tokenizer('roberta')\n",
    "    tokenized_RoBERTa_test = RoBERTa_DistilBERT_tokenization(test['text'])\n",
    "    RoBERTa_dataset_test = RoBERTa_DistilBERT_Dataset(tokenized_RoBERTa_test,test['label'])\n",
    "    RoBERTa_dataloader = DataLoader(RoBERTa_dataset_test, batch_size=8, shuffle=True)\n",
    "\n",
    "    # Iterate over the test dataset\n",
    "\n",
    "    torch.cuda.empty_cache()\n",
    "    model.eval()\n",
    "    model.to('cuda')\n",
    "    predictions = []\n",
    "    true_labels = []\n",
    "\n",
    "    for batch in RoBERTa_dataloader:\n",
    "        batch = {k: v.to('cuda') for k, v in batch.items()}\n",
    "\n",
    "        # Disable gradient calculation\n",
    "        with torch.no_grad():\n",
    "            # Perform inference\n",
    "            outputs = model(**batch)\n",
    "\n",
    "        predicted_values = outputs.logits\n",
    "\n",
    "        predictions.extend(predicted_values)\n",
    "        true_labels.extend(batch['labels'].tolist())\n",
    "    # Convert logits to predictions\n",
    "    # 1 and 2 means positive and 0 means negative\n",
    "    predictions = [torch.argmax(item).item() for item in predictions]\n",
    "    predictions = [1 if (i == 1 or i == 2) else i for i in predictions]\n",
    "    # Generate classification report\n",
    "    report = classification_report(test['label'], predictions)\n",
    "    print(report)"
   ]
  },
  {
   "cell_type": "code",
   "execution_count": 24,
   "id": "36ba6c1b",
   "metadata": {},
   "outputs": [
    {
     "name": "stderr",
     "output_type": "stream",
     "text": [
      "/home/fangkangmi/miniconda3/envs/textsum/lib/python3.9/site-packages/transformers/tokenization_utils_base.py:2382: UserWarning: `max_length` is ignored when `padding`=`True` and there is no truncation strategy. To pad to max length, use `padding='max_length'`.\n",
      "  warnings.warn(\n",
      "/tmp/ipykernel_7818/2879178762.py:20: UserWarning: To copy construct from a tensor, it is recommended to use sourceTensor.clone().detach() or sourceTensor.clone().detach().requires_grad_(True), rather than torch.tensor(sourceTensor).\n",
      "  item = {key: torch.tensor(val[idx]) for key, val in self.encodings.items()}\n"
     ]
    },
    {
     "name": "stdout",
     "output_type": "stream",
     "text": [
      "              precision    recall  f1-score   support\n",
      "\n",
      "           0       0.34      0.92      0.50        51\n",
      "           1       0.43      0.03      0.06        93\n",
      "\n",
      "    accuracy                           0.35       144\n",
      "   macro avg       0.39      0.48      0.28       144\n",
      "weighted avg       0.40      0.35      0.22       144\n",
      "\n"
     ]
    }
   ],
   "source": [
    "if('Distilbert' in MODEL):\n",
    "    model, tokenizer = set_model_and_tokenizer('Distilbert')\n",
    "    tokenized_Distilbert_test = RoBERTa_DistilBERT_tokenization(test['text'])\n",
    "    Distilbert_dataset_test = RoBERTa_DistilBERT_Dataset(tokenized_Distilbert_test,test['label'])\n",
    "    Distilbert_dataloader = DataLoader(Distilbert_dataset_test, batch_size=8, shuffle=True)\n",
    "\n",
    "    # Iterate over the test dataset\n",
    "\n",
    "    torch.cuda.empty_cache()\n",
    "    model.eval()\n",
    "    model.to('cuda')\n",
    "    predictions = []\n",
    "    true_label = []\n",
    "\n",
    "    for batch in Distilbert_dataloader:\n",
    "        batch = {k: v.to('cuda') for k, v in batch.items()}\n",
    "\n",
    "        # Disable gradient calculation\n",
    "        with torch.no_grad():\n",
    "            # Perform inference\n",
    "            outputs = model(**batch)\n",
    "\n",
    "        predicted_values = outputs.logits\n",
    "        predictions.extend(predicted_values)\n",
    "        true_label.extend(batch['labels'].tolist())\n",
    "    # Convert logits to predictions,  \n",
    "    # 1 means positive and 0 means negative\n",
    "    predictions = [torch.argmax(item).item() for item in predictions]\n",
    "    # Generate classification report\n",
    "    report = classification_report(test['label'], predictions)\n",
    "    print(report)"
   ]
  },
  {
   "cell_type": "code",
   "execution_count": 26,
   "id": "9761309e",
   "metadata": {},
   "outputs": [
    {
     "name": "stderr",
     "output_type": "stream",
     "text": [
      "Loading cached processed dataset at /home/fangkangmi/.cache/huggingface/datasets/argilla___parquet/argilla--banking_sentiment_setfit-4a60f83f113675bf/0.0.0/2a3b91fbd88a2c90d1dbbb32b460cf621d31bd5b05b934492fdef7d8d6f236ec/cache-6c82bc1426f23e36.arrow\n",
      "/home/fangkangmi/miniconda3/envs/textsum/lib/python3.9/site-packages/transformers/generation/utils.py:1346: UserWarning: Using `max_length`'s default (20) to control the generation length. This behaviour is deprecated and will be removed from the config in v5 of Transformers -- we recommend using `max_new_tokens` to control the maximum length of the generation.\n",
      "  warnings.warn(\n"
     ]
    },
    {
     "name": "stdout",
     "output_type": "stream",
     "text": [
      "              precision    recall  f1-score   support\n",
      "\n",
      "           0       0.96      0.40      0.57       122\n",
      "           1       0.22      0.91      0.35        22\n",
      "\n",
      "    accuracy                           0.48       144\n",
      "   macro avg       0.59      0.66      0.46       144\n",
      "weighted avg       0.85      0.48      0.53       144\n",
      "\n"
     ]
    }
   ],
   "source": [
    "if('FlanT5small' in MODEL):\n",
    "    model, tokenizer = set_model_and_tokenizer('FlanT5small')\n",
    "    Flan_T5_test = test.map(T5_tokenization, batched = True)['input_ids']\n",
    "    Flan_T5_predict = T5_get_sentiment(torch.tensor(Flan_T5_test))\n",
    "    Flan_T5_predict_digit = [1 if i == 'positive' else 0 for i in Flan_T5_predict]\n",
    "    # Print the classification report\n",
    "    # 1 means positive 0 means negative\n",
    "    report = classification_report(Flan_T5_predict_digit, test['label'])\n",
    "    print(report)\n"
   ]
  },
  {
   "cell_type": "code",
   "execution_count": 37,
   "id": "e297607c",
   "metadata": {},
   "outputs": [
    {
     "name": "stdout",
     "output_type": "stream",
     "text": [
      "              precision    recall  f1-score   support\n",
      "\n",
      "    negative       0.96      0.40      0.57       122\n",
      "    positive       0.22      0.91      0.35        22\n",
      "\n",
      "    accuracy                           0.48       144\n",
      "   macro avg       0.59      0.66      0.46       144\n",
      "weighted avg       0.85      0.48      0.53       144\n",
      "\n"
     ]
    }
   ],
   "source": [
    "test = concatenate_datasets([dataset['train'], dataset['test']])\n",
    "predition_list = ['negative' if element == 0 else 'positive' for element in Flan_T5_predict_digit]\n",
    "test_list = ['negative' if element == 0 else 'positive' for element in test['label']]\n",
    "report = classification_report(predition_list, test_list)\n",
    "print(report)\n"
   ]
  },
  {
   "cell_type": "code",
   "execution_count": null,
   "id": "2c33f15f",
   "metadata": {},
   "outputs": [],
   "source": []
  }
 ],
 "metadata": {
  "kernelspec": {
   "display_name": "textsum",
   "language": "python",
   "name": "textsum"
  },
  "language_info": {
   "codemirror_mode": {
    "name": "ipython",
    "version": 3
   },
   "file_extension": ".py",
   "mimetype": "text/x-python",
   "name": "python",
   "nbconvert_exporter": "python",
   "pygments_lexer": "ipython3",
   "version": "3.9.16"
  }
 },
 "nbformat": 4,
 "nbformat_minor": 5
}
